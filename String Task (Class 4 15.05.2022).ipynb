{
 "cells": [
  {
   "cell_type": "markdown",
   "metadata": {},
   "source": [
    "### Submited By : Pallab Maity"
   ]
  },
  {
   "cell_type": "raw",
   "metadata": {},
   "source": [
    "s = \"this is My First Python programming class and i am learNING python string and its function\"\n",
    "\n",
    "1 .Try to extract data from index one to index 300 with a jump 0f 3\n",
    "2 .Try to reverse a string without using reverse function\n",
    "3 .Try to split a string after conversion of entire string in uppercase\n",
    "4 .Try to convert whole string into lower case\n",
    "5 .Try to capitalize whole string\n",
    "6 .Write difference between isalnum() and isalpha()\n",
    "7 .Try to give an example of exapand tab\n",
    "8 .Give an example of strip, lstrip and rstrip\n",
    "9 .Replace a string character by another character by taking your own example\n",
    "10.Try to give a definition of string center function with an example\n",
    "11.Write your definition of compiler and interpretor without copy paste from internet\n",
    "12.Python is an interpreted or compile language. Give a clear answer with your understanding\n",
    "13.Try to write a use case of python with your understanding"
   ]
  },
  {
   "cell_type": "code",
   "execution_count": null,
   "metadata": {},
   "outputs": [],
   "source": [
    "s = \"this is My First Python programming class and i am learNING python string and its function\""
   ]
  },
  {
   "cell_type": "code",
   "execution_count": null,
   "metadata": {},
   "outputs": [],
   "source": [
    "#1 .Try to extract data from index one to index 300 with a jump of 3 \n",
    "s[1:300:3]"
   ]
  },
  {
   "cell_type": "code",
   "execution_count": null,
   "metadata": {},
   "outputs": [],
   "source": [
    "#2. Try to reverse a string without using reverse function\n",
    "s[::-1]"
   ]
  },
  {
   "cell_type": "code",
   "execution_count": null,
   "metadata": {},
   "outputs": [],
   "source": [
    "#Try to split a string after conversion of entire string in uppercase\n",
    "s.upper()"
   ]
  },
  {
   "cell_type": "code",
   "execution_count": null,
   "metadata": {},
   "outputs": [],
   "source": [
    "#4 .Try to convert whole string into lower case\n",
    "s.lower()"
   ]
  },
  {
   "cell_type": "code",
   "execution_count": null,
   "metadata": {},
   "outputs": [],
   "source": [
    "# 5 .Try to capitalize whole string\n",
    "s.capitalize()"
   ]
  },
  {
   "cell_type": "markdown",
   "metadata": {},
   "source": [
    "6.Write difference between isalnum() and isalpha()\n",
    " \n",
    " The Python isalpha() method returns true if a string only contains letters where as Python isalnum() only returns true if a string contains alphanumeric characters, without symbols.\n"
   ]
  },
  {
   "cell_type": "code",
   "execution_count": null,
   "metadata": {},
   "outputs": [],
   "source": [
    "# 7 .Try to give an example of exapand tab\n",
    "t = \"pola\\tPallab\\tmaity\"\n",
    "t.expandtabs()"
   ]
  },
  {
   "cell_type": "code",
   "execution_count": null,
   "metadata": {},
   "outputs": [],
   "source": [
    "# 8 .Give an example of strip, lstrip and rstrip\n",
    "p= \"  r  rahul  pas psted  \"\n",
    "p.lstrip()"
   ]
  },
  {
   "cell_type": "code",
   "execution_count": null,
   "metadata": {},
   "outputs": [],
   "source": [
    "p.rstrip()"
   ]
  },
  {
   "cell_type": "code",
   "execution_count": null,
   "metadata": {},
   "outputs": [],
   "source": [
    "p.strip()"
   ]
  },
  {
   "cell_type": "code",
   "execution_count": null,
   "metadata": {},
   "outputs": [],
   "source": [
    "# Replace a string character by another character by taking your own example\n",
    "l= \"Ami ekta valo chele\"\n",
    "l1 = l.replace(\"ekta\", \"akta\")\n",
    "l1"
   ]
  },
  {
   "cell_type": "code",
   "execution_count": null,
   "metadata": {},
   "outputs": [],
   "source": [
    "#10.Try to give a definition of string center function with an example\n",
    "l.center(40,'*')"
   ]
  },
  {
   "cell_type": "markdown",
   "metadata": {},
   "source": [
    "#### 11. Write your definition of compiler and interpretor without copy paste from internet\n",
    "\n",
    "In simple words, Compiler scans the program written and translates this into code that machine can understand whereas Interpreter takes one single line of code at a time. This basically means that compiler generates an intermediate machine code whereas interpreter doesn't.\n",
    "\n",
    "Example of Programming Languages that use Compiler are C, C++, Java Example of Programming Languages that use Interpreter are JavaScript, Ruby"
   ]
  },
  {
   "cell_type": "markdown",
   "metadata": {},
   "source": [
    "#### 12. Python is an interpreted or compile language. Give a clear answer with your understanding\n",
    "\n",
    "In various books of python programming, it is mentioned that python language is interpreted. But that is half correct the python program is first compiled and then interpreted. The compilation part is hidden from the programmer thus, many programmers believe that it is an interpreted language. The compilation part is done first when we execute our code and this will generate byte code and internally this byte code gets converted by the python virtual machine(p.v.m) according to the underlying platform(machine+operating system)."
   ]
  },
  {
   "cell_type": "markdown",
   "metadata": {},
   "source": [
    "#### 13.Try to write a use case of python with your understanding\n",
    "Some Use Cases of Python:\n",
    "\n",
    "1.Data Science\n",
    "2.Game Development\n",
    "3.Web Applications\n",
    "4.Software Development\n",
    "5.Web Scraping\n",
    "6.Internet of Things"
   ]
  },
  {
   "cell_type": "code",
   "execution_count": null,
   "metadata": {},
   "outputs": [],
   "source": []
  }
 ],
 "metadata": {
  "kernelspec": {
   "display_name": "Python 3",
   "language": "python",
   "name": "python3"
  },
  "language_info": {
   "codemirror_mode": {
    "name": "ipython",
    "version": 3
   },
   "file_extension": ".py",
   "mimetype": "text/x-python",
   "name": "python",
   "nbconvert_exporter": "python",
   "pygments_lexer": "ipython3",
   "version": "3.8.5"
  }
 },
 "nbformat": 4,
 "nbformat_minor": 4
}
