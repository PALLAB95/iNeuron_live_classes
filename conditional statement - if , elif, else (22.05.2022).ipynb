{
 "cells": [
  {
   "cell_type": "code",
   "execution_count": 1,
   "metadata": {},
   "outputs": [],
   "source": [
    "a = 10 \n",
    "if a == 11 :\n",
    "    print(\"this is my first condition\")\n",
    "    \n"
   ]
  },
  {
   "cell_type": "code",
   "execution_count": 2,
   "metadata": {},
   "outputs": [],
   "source": [
    "a = 10\n",
    "if a >5 :\n",
    "    pass"
   ]
  },
  {
   "cell_type": "code",
   "execution_count": 3,
   "metadata": {},
   "outputs": [],
   "source": [
    "a = 10 \n",
    "if a <8:\n",
    "    print(\"print this if condition is true \")"
   ]
  },
  {
   "cell_type": "code",
   "execution_count": 4,
   "metadata": {},
   "outputs": [
    {
     "name": "stdout",
     "output_type": "stream",
     "text": [
      "print this \n"
     ]
    }
   ],
   "source": [
    "a = 10\n",
    "if a == 11:\n",
    "    print(\"my condition is false\")\n",
    "else :\n",
    "    print(\"print this \")"
   ]
  },
  {
   "cell_type": "code",
   "execution_count": 5,
   "metadata": {},
   "outputs": [
    {
     "name": "stdout",
     "output_type": "stream",
     "text": [
      "we are trying to compare 10 with 11\n"
     ]
    }
   ],
   "source": [
    "a = 10 \n",
    "if a == 12 :\n",
    "    print(\"here we are trying to compare 10 with 12\")\n",
    "elif a ==10:\n",
    "    print(\"we are trying to compare 10 with 11\")\n",
    "else :\n",
    "    print(\"if all the blocks wil fail then do this \")"
   ]
  },
  {
   "cell_type": "code",
   "execution_count": 6,
   "metadata": {},
   "outputs": [
    {
     "name": "stdout",
     "output_type": "stream",
     "text": [
      "for sure i will be able to buy\n"
     ]
    }
   ],
   "source": [
    "price = 500\n",
    "\n",
    "if price > 500 : \n",
    "    print(\" may b i wont be able to buy a jacket \")\n",
    "elif price < 500 :\n",
    "    print(\"i will be able to buy a jacket\")\n",
    "elif  price == 500 :\n",
    "    print(\"for sure i will be able to buy\")\n",
    "\n",
    "else  :\n",
    "    print(\"i dont know\")\n",
    "    "
   ]
  },
  {
   "cell_type": "code",
   "execution_count": 7,
   "metadata": {},
   "outputs": [
    {
     "data": {
      "text/plain": [
       "False"
      ]
     },
     "execution_count": 7,
     "metadata": {},
     "output_type": "execute_result"
    }
   ],
   "source": [
    "price > 500"
   ]
  },
  {
   "cell_type": "code",
   "execution_count": 8,
   "metadata": {},
   "outputs": [
    {
     "data": {
      "text/plain": [
       "False"
      ]
     },
     "execution_count": 8,
     "metadata": {},
     "output_type": "execute_result"
    }
   ],
   "source": [
    "price < 500"
   ]
  },
  {
   "cell_type": "code",
   "execution_count": 9,
   "metadata": {},
   "outputs": [
    {
     "data": {
      "text/plain": [
       "True"
      ]
     },
     "execution_count": 9,
     "metadata": {},
     "output_type": "execute_result"
    }
   ],
   "source": [
    " price == 500"
   ]
  },
  {
   "cell_type": "code",
   "execution_count": 10,
   "metadata": {},
   "outputs": [
    {
     "data": {
      "text/plain": [
       "True"
      ]
     },
     "execution_count": 10,
     "metadata": {},
     "output_type": "execute_result"
    }
   ],
   "source": [
    "l = [1,2,3,4,5,6]\n",
    "2 in l"
   ]
  },
  {
   "cell_type": "code",
   "execution_count": 11,
   "metadata": {},
   "outputs": [
    {
     "name": "stdout",
     "output_type": "stream",
     "text": [
      "do not perform this task\n"
     ]
    }
   ],
   "source": [
    "if 60 in l :\n",
    "    print(\"try to perform a task \")\n",
    "else :\n",
    "    print(\"do not perform this task\")"
   ]
  },
  {
   "cell_type": "code",
   "execution_count": 12,
   "metadata": {},
   "outputs": [
    {
     "data": {
      "text/plain": [
       "False"
      ]
     },
     "execution_count": 12,
     "metadata": {},
     "output_type": "execute_result"
    }
   ],
   "source": [
    "60 in l"
   ]
  },
  {
   "cell_type": "code",
   "execution_count": 13,
   "metadata": {},
   "outputs": [
    {
     "data": {
      "text/plain": [
       "[1, 2, 3, 4, 5, 6]"
      ]
     },
     "execution_count": 13,
     "metadata": {},
     "output_type": "execute_result"
    }
   ],
   "source": [
    "l"
   ]
  },
  {
   "cell_type": "code",
   "execution_count": 14,
   "metadata": {},
   "outputs": [
    {
     "name": "stdout",
     "output_type": "stream",
     "text": [
      "try to do sub\n",
      "this is new statement\n"
     ]
    }
   ],
   "source": [
    "if 10 in l :\n",
    "    print(\"thy to do a addition\")\n",
    "elif 2 in l :\n",
    "    print(\"try to do sub\")\n",
    "elif 3 in l :\n",
    "    print(\"try to do mul\")\n",
    "if 4 in l :\n",
    "    print(\"this is new statement\")"
   ]
  },
  {
   "cell_type": "code",
   "execution_count": 15,
   "metadata": {},
   "outputs": [],
   "source": [
    "a = 400"
   ]
  },
  {
   "cell_type": "code",
   "execution_count": 16,
   "metadata": {},
   "outputs": [
    {
     "name": "stdout",
     "output_type": "stream",
     "text": [
      "200\n"
     ]
    }
   ],
   "source": [
    "b = int(input())"
   ]
  },
  {
   "cell_type": "code",
   "execution_count": 17,
   "metadata": {},
   "outputs": [
    {
     "data": {
      "text/plain": [
       "int"
      ]
     },
     "execution_count": 17,
     "metadata": {},
     "output_type": "execute_result"
    }
   ],
   "source": [
    "type(b)\n"
   ]
  },
  {
   "cell_type": "code",
   "execution_count": 18,
   "metadata": {},
   "outputs": [
    {
     "name": "stdout",
     "output_type": "stream",
     "text": [
      "23\n",
      "i will be able to buy something\n",
      "i will be able to buy a jacket\n"
     ]
    }
   ],
   "source": [
    "price  = int(input())\n",
    "if price  <500 :\n",
    "    print(\"i will be able to buy something\")\n",
    "    if price < 400 :\n",
    "        print(\"i will be able to buy a jacket\")\n",
    "    elif price < 300 :\n",
    "        \n",
    "        print(\"i will be able to buy a shirt\")\n",
    "        if price < 200 :\n",
    "            print(\"i would like to do sometign\")\n",
    "    else :\n",
    "        print(\"i wont be able to buy anyting\")\n",
    "else :\n",
    "     print(\"i wont be able to buy anything with this price tag\")\n",
    "     if price >500:\n",
    "        print(\"lets try someting else \")\n",
    "        "
   ]
  },
  {
   "cell_type": "code",
   "execution_count": 19,
   "metadata": {},
   "outputs": [
    {
     "name": "stdout",
     "output_type": "stream",
     "text": [
      "32\n",
      "NO GRE\n",
      "TOFEL\n",
      "Try something else\n"
     ]
    }
   ],
   "source": [
    "marks = int(input())\n",
    "if marks < 600:\n",
    "    print(\"NO GRE\")\n",
    "    if marks < 500:\n",
    "        print(\"TOFEL\")\n",
    "        if marks < 400:\n",
    "            print(\"Try something else\")\n",
    "    else:\n",
    "        print(\"YOU GOT TOFEL\")\n",
    "else:\n",
    "    print(\"You got GRE congratulations\")\n"
   ]
  },
  {
   "cell_type": "code",
   "execution_count": 20,
   "metadata": {},
   "outputs": [
    {
     "name": "stdout",
     "output_type": "stream",
     "text": [
      "enter a floating point number456.76\n",
      "enter value is a positive number \n"
     ]
    }
   ],
   "source": [
    "val  = float(input(\"enter a floating point number\"))\n",
    "if val >= 0 :\n",
    "    if val == 0 :\n",
    "        print(\"entered value is zero\")\n",
    "    else :\n",
    "        print(\"enter value is a positive number \")\n",
    "else :\n",
    "    print(\"entered number is a negative number\")"
   ]
  },
  {
   "cell_type": "code",
   "execution_count": 21,
   "metadata": {},
   "outputs": [],
   "source": [
    "a = 10\n",
    "if a <10  and a == 10 :\n",
    "    print(\"try to do someting \")"
   ]
  },
  {
   "cell_type": "code",
   "execution_count": 22,
   "metadata": {},
   "outputs": [
    {
     "name": "stdout",
     "output_type": "stream",
     "text": [
      "this is sudh \n"
     ]
    }
   ],
   "source": [
    "a = \"sudh\"\n",
    "if a == \"sudh\" or a == \"Sudh\":\n",
    "    print(\"this is sudh \")"
   ]
  },
  {
   "cell_type": "code",
   "execution_count": 23,
   "metadata": {},
   "outputs": [
    {
     "name": "stdout",
     "output_type": "stream",
     "text": [
      "lets do something\n"
     ]
    }
   ],
   "source": [
    "a = 10 \n",
    "b = 11\n",
    "c = 12\n",
    "d = 13\n",
    "if a == 9 or b == 11 and c == 12 and d ==13:\n",
    "    print(\"lets do something\")"
   ]
  },
  {
   "cell_type": "code",
   "execution_count": 24,
   "metadata": {},
   "outputs": [],
   "source": [
    "d = {'key1' :\"value\" , \"key2\" : \"sudh\" , \"key3\" : \"iNeuron\"}"
   ]
  },
  {
   "cell_type": "code",
   "execution_count": 25,
   "metadata": {},
   "outputs": [
    {
     "name": "stdout",
     "output_type": "stream",
     "text": [
      "all the values are not verified \n"
     ]
    }
   ],
   "source": [
    "if d['key1'] == \"value\" and d['key2'] == \"Sudh\" and d['key3'] == \"iNeuron\":\n",
    "    print(\"all the values are verified \")\n",
    "    print(d.values())\n",
    "else :\n",
    "    print(\"all the values are not verified \")"
   ]
  },
  {
   "cell_type": "code",
   "execution_count": 26,
   "metadata": {},
   "outputs": [
    {
     "data": {
      "text/plain": [
       "'value'"
      ]
     },
     "execution_count": 26,
     "metadata": {},
     "output_type": "execute_result"
    }
   ],
   "source": [
    "d['key1']"
   ]
  },
  {
   "cell_type": "code",
   "execution_count": 27,
   "metadata": {},
   "outputs": [],
   "source": [
    "l = [1,2,3,4,5,\"sudh\" ,234.45]"
   ]
  },
  {
   "cell_type": "code",
   "execution_count": 28,
   "metadata": {},
   "outputs": [
    {
     "data": {
      "text/plain": [
       "1"
      ]
     },
     "execution_count": 28,
     "metadata": {},
     "output_type": "execute_result"
    }
   ],
   "source": [
    "l[0]"
   ]
  },
  {
   "cell_type": "code",
   "execution_count": 29,
   "metadata": {},
   "outputs": [
    {
     "data": {
      "text/plain": [
       "2"
      ]
     },
     "execution_count": 29,
     "metadata": {},
     "output_type": "execute_result"
    }
   ],
   "source": [
    "l[1]"
   ]
  },
  {
   "cell_type": "code",
   "execution_count": 30,
   "metadata": {},
   "outputs": [
    {
     "data": {
      "text/plain": [
       "[3, 4, 5]"
      ]
     },
     "execution_count": 30,
     "metadata": {},
     "output_type": "execute_result"
    }
   ],
   "source": [
    "l[2:5]"
   ]
  },
  {
   "cell_type": "code",
   "execution_count": 31,
   "metadata": {},
   "outputs": [
    {
     "data": {
      "text/plain": [
       "[1, 2, 3, 4, 5, 'sudh', 234.45]"
      ]
     },
     "execution_count": 31,
     "metadata": {},
     "output_type": "execute_result"
    }
   ],
   "source": [
    "l"
   ]
  },
  {
   "cell_type": "code",
   "execution_count": 32,
   "metadata": {},
   "outputs": [
    {
     "name": "stdout",
     "output_type": "stream",
     "text": [
      "2\n",
      "3\n",
      "4\n",
      "5\n",
      "6\n",
      "sudh1\n",
      "235.45\n"
     ]
    }
   ],
   "source": [
    "for i in l :\n",
    "    if type(i) == int or type(i) == float:\n",
    "        print(i+1)\n",
    "    elif type(i) == str:\n",
    "        print(i + str(1))\n",
    "    "
   ]
  },
  {
   "cell_type": "code",
   "execution_count": 33,
   "metadata": {},
   "outputs": [
    {
     "data": {
      "text/plain": [
       "[1, 2, 3, 4, 5, 'sudh', 234.45]"
      ]
     },
     "execution_count": 33,
     "metadata": {},
     "output_type": "execute_result"
    }
   ],
   "source": [
    "l"
   ]
  },
  {
   "cell_type": "code",
   "execution_count": 34,
   "metadata": {},
   "outputs": [
    {
     "name": "stdout",
     "output_type": "stream",
     "text": [
      "9 8 7 6 5 4 3 2 10 "
     ]
    }
   ],
   "source": [
    "a=[9, 8,7,6,5,4,3,2,10]\n",
    "for i in a :\n",
    "       print(i ,end=' ') "
   ]
  },
  {
   "cell_type": "code",
   "execution_count": 35,
   "metadata": {},
   "outputs": [
    {
     "data": {
      "text/plain": [
       "[1, 2, 3, 4, 5, 'sudh', 234.45]"
      ]
     },
     "execution_count": 35,
     "metadata": {},
     "output_type": "execute_result"
    }
   ],
   "source": [
    "l "
   ]
  },
  {
   "cell_type": "code",
   "execution_count": 36,
   "metadata": {},
   "outputs": [],
   "source": [
    "l1 = []\n",
    "for i in l :\n",
    "    if type(i) == int:\n",
    "        l1.append(i)"
   ]
  },
  {
   "cell_type": "code",
   "execution_count": 37,
   "metadata": {},
   "outputs": [
    {
     "data": {
      "text/plain": [
       "[1, 2, 3, 4, 5]"
      ]
     },
     "execution_count": 37,
     "metadata": {},
     "output_type": "execute_result"
    }
   ],
   "source": [
    "l1"
   ]
  },
  {
   "cell_type": "code",
   "execution_count": 38,
   "metadata": {},
   "outputs": [
    {
     "name": "stdout",
     "output_type": "stream",
     "text": [
      "2\n",
      "3\n",
      "4\n",
      "5\n",
      "6\n",
      "sudh1\n",
      "235.45\n"
     ]
    }
   ],
   "source": [
    "for a in l:\n",
    "    if type(a)==int:\n",
    "        print(a+1)\n",
    "    elif type(a)==str:\n",
    "        print(a+str(1))\n",
    "    elif type(a)==float:\n",
    "        print(a+float(1))\n"
   ]
  },
  {
   "cell_type": "code",
   "execution_count": 39,
   "metadata": {},
   "outputs": [
    {
     "name": "stdout",
     "output_type": "stream",
     "text": [
      "2\n",
      "3\n",
      "4\n",
      "5\n",
      "6\n",
      "sudh1\n",
      "235.45\n"
     ]
    }
   ],
   "source": [
    "for i in l:\n",
    "    if type(i)==int  or type(i) == float:\n",
    "        print(i+1)\n",
    "    elif type(i)== str:    \n",
    "        print(i+ str(1))"
   ]
  },
  {
   "cell_type": "code",
   "execution_count": 40,
   "metadata": {},
   "outputs": [
    {
     "name": "stdout",
     "output_type": "stream",
     "text": [
      "2\n",
      "3\n",
      "4\n",
      "5\n",
      "6\n",
      "sudh1\n",
      "235.45\n"
     ]
    }
   ],
   "source": [
    "for i in l :\n",
    "    if type(i) ==  int or type(i) == float :\n",
    "        print(i+1) \n",
    "    elif type(i) == str:\n",
    "        print(i + str(1))\n"
   ]
  },
  {
   "cell_type": "code",
   "execution_count": 41,
   "metadata": {},
   "outputs": [
    {
     "ename": "AttributeError",
     "evalue": "'int' object has no attribute 'isnumeric'",
     "output_type": "error",
     "traceback": [
      "\u001b[1;31m---------------------------------------------------------------------------\u001b[0m",
      "\u001b[1;31mAttributeError\u001b[0m                            Traceback (most recent call last)",
      "\u001b[1;32m<ipython-input-41-72d83c2a07b7>\u001b[0m in \u001b[0;36m<module>\u001b[1;34m\u001b[0m\n\u001b[0;32m      2\u001b[0m \u001b[1;33m\u001b[0m\u001b[0m\n\u001b[0;32m      3\u001b[0m \u001b[1;32mfor\u001b[0m \u001b[0mi\u001b[0m \u001b[1;32min\u001b[0m \u001b[0ml\u001b[0m\u001b[1;33m:\u001b[0m\u001b[1;33m\u001b[0m\u001b[1;33m\u001b[0m\u001b[0m\n\u001b[1;32m----> 4\u001b[1;33m     \u001b[1;32mif\u001b[0m \u001b[0mi\u001b[0m\u001b[1;33m.\u001b[0m\u001b[0misnumeric\u001b[0m\u001b[1;33m(\u001b[0m\u001b[1;33m)\u001b[0m\u001b[1;33m:\u001b[0m\u001b[1;33m\u001b[0m\u001b[1;33m\u001b[0m\u001b[0m\n\u001b[0m\u001b[0;32m      5\u001b[0m         \u001b[0mprint\u001b[0m\u001b[1;33m(\u001b[0m\u001b[0mi\u001b[0m\u001b[1;33m)\u001b[0m\u001b[1;33m\u001b[0m\u001b[1;33m\u001b[0m\u001b[0m\n",
      "\u001b[1;31mAttributeError\u001b[0m: 'int' object has no attribute 'isnumeric'"
     ]
    }
   ],
   "source": [
    "l = [1,2,3,4,5 ,\"car\",5,6,7]\n",
    "\n",
    "for i in l:\n",
    "    if i.isnumeric():\n",
    "        print(i)"
   ]
  },
  {
   "cell_type": "code",
   "execution_count": null,
   "metadata": {},
   "outputs": [],
   "source": [
    "if d['key1']==\"value\" and d['key2']==\"amrit\" and d['key3']==\"ineuron\":\n",
    "    print (\"all the values aree verified\")\n",
    "    print(d.value())\n",
    "if d['key1']==\"value\" and d['key2']==\"amrit\" and d['key3']==\"ineuron\":\n",
    "    print (\"all the values aree verified\")\n",
    "    print(d.value())"
   ]
  },
  {
   "cell_type": "code",
   "execution_count": null,
   "metadata": {},
   "outputs": [],
   "source": [
    "list=[]\n",
    "name=input(\"Enter a name:-\")\n",
    "while name!=\"Chandan\":\n",
    "    list.append(name)\n",
    "#print(\"Thanks for the confirmation\")\n",
    "    print(list)\n"
   ]
  },
  {
   "cell_type": "code",
   "execution_count": null,
   "metadata": {},
   "outputs": [],
   "source": [
    "l = [1,2,3,4,5465,67,\"sudh\"]"
   ]
  },
  {
   "cell_type": "code",
   "execution_count": null,
   "metadata": {},
   "outputs": [],
   "source": [
    "for i in l:\n",
    "    if type(i)==str:\n",
    "        if i=='d':\n",
    "            break\n",
    "        print(i)\n",
    "        \n"
   ]
  },
  {
   "cell_type": "code",
   "execution_count": null,
   "metadata": {},
   "outputs": [],
   "source": [
    "l = [1,2,3,4,'CK',2020.12]\n",
    "for i in l:\n",
    "    if type(i) == int :\n",
    "        print(i+1)\n",
    "    elif type(i) == str:\n",
    "        print(i +str(1))\n",
    "    elif type(i) == float:\n",
    "        print(i + float(1))\n",
    "\n"
   ]
  },
  {
   "cell_type": "code",
   "execution_count": 43,
   "metadata": {},
   "outputs": [
    {
     "name": "stdout",
     "output_type": "stream",
     "text": [
      "print this if condition is true\n"
     ]
    }
   ],
   "source": [
    "a = 7\n",
    "if a < 8 :\n",
    "    print(\"print this if condition is true\")"
   ]
  },
  {
   "cell_type": "code",
   "execution_count": null,
   "metadata": {},
   "outputs": [],
   "source": [
    "marks =int(input())\n",
    "if marks  > 600:\n",
    "    print(\"Able to clear GRE \")\n",
    "elif marks < 600:\n",
    "        print(\"No Gre\")\n",
    "elif marks <500:\n",
    "    pass"
   ]
  },
  {
   "cell_type": "code",
   "execution_count": null,
   "metadata": {},
   "outputs": [],
   "source": [
    "val = float(input(\"enter a floating number\"))\n",
    "if val>=0:\n",
    "    if val== 0:\n",
    "        print(\"entered number is zero\")\n",
    "    else:\n",
    "        print(\"value is a positive number\")\n",
    "else :\n",
    "    print(\"value is a negative number\")\n"
   ]
  },
  {
   "cell_type": "code",
   "execution_count": null,
   "metadata": {},
   "outputs": [],
   "source": [
    "a,b,c,d=10,11,12,13\n",
    "####### Question 01 #######\n",
    "if a==10 or b==11 and c==12 and d==113: #### Case 1\n",
    "    # this is equal to a==10 or (b==11 and c==12 and d==113)\n",
    "    print('lets do something 1')\n",
    "if (a==10 and b==11 ) or (c==12 and d==113):  #### Case 2\n",
    "    # this is equal to (a==10 and b==11) or (c==12 and d==113)\n",
    "    print('lets do something 2')\n",
    "if a==10 and b==11 and c==12 and d==13 or a==9:   #### Case 3\n",
    "    # this is equal to (a==10 and b==11 and c==12 and d==13) or a==9\n",
    "    print('lets do something 3')\n",
    "if a==9 or b==11 and c==12 and d==13:   #### Case 4\n",
    "    print('lets do something 4')\n",
    "############# Question 2 #########\n",
    "# What is the difference between:\n",
    "print(type(a) == int)\n",
    "print(type(a) is int)\n"
   ]
  },
  {
   "cell_type": "code",
   "execution_count": null,
   "metadata": {},
   "outputs": [],
   "source": [
    "\n",
    "type(a) == int"
   ]
  },
  {
   "cell_type": "code",
   "execution_count": null,
   "metadata": {},
   "outputs": [],
   "source": [
    "a "
   ]
  },
  {
   "cell_type": "code",
   "execution_count": null,
   "metadata": {},
   "outputs": [],
   "source": [
    "type(a) is int"
   ]
  },
  {
   "cell_type": "code",
   "execution_count": null,
   "metadata": {},
   "outputs": [],
   "source": [
    "l = [0,0,0,0,0,0,0,1324,0,0,0,0,0]\n",
    "\n",
    "for i in l:\n",
    "    if i > 0 :\n",
    "        print(\"We have an active alarm Number:\",i)         \n",
    "else:\n",
    "    print (\"No alarm\")\n",
    "    "
   ]
  },
  {
   "cell_type": "code",
   "execution_count": null,
   "metadata": {},
   "outputs": [],
   "source": [
    "l=[1,2,3,4,5,\"sudh\",234.45]\n",
    "\n",
    "a=0\n",
    "l1=[]\n",
    "for i in l:\n",
    "    if type(i) == int:\n",
    "          l1 = l1 + [i]\n",
    "print(l1)"
   ]
  },
  {
   "cell_type": "code",
   "execution_count": null,
   "metadata": {},
   "outputs": [],
   "source": [
    "l1"
   ]
  },
  {
   "cell_type": "code",
   "execution_count": null,
   "metadata": {},
   "outputs": [],
   "source": [
    "a=int(input(\"Input a number from 1 to 40-------\"))\n",
    "if a >=1 or a <=9:\n",
    "    print (\"white\")\n",
    "if 10<=a>=20:\n",
    "    print (\"yellow\")\n",
    "if 21<=a>=30:\n",
    "        print (\"blue\")\n",
    "elif 31<=a>=40:\n",
    "        print (\"red\")\n",
    "else :\n",
    "    print(\"Please enter number from 1 to 40\")"
   ]
  },
  {
   "cell_type": "code",
   "execution_count": null,
   "metadata": {},
   "outputs": [],
   "source": [
    "for i in l :\n",
    "    if type(i) == int or type(i) == float :\n",
    "        print(i+1)\n",
    "    elif type(i) == str :\n",
    "        print(i + str(1))\n"
   ]
  },
  {
   "cell_type": "code",
   "execution_count": null,
   "metadata": {},
   "outputs": [],
   "source": [
    "for i in l :\n",
    "    if type(i) == int or type(i) == float :\n",
    "        print(i+1)\n",
    "    elif type(i) == str :\n",
    "        print(i+ str(1))"
   ]
  },
  {
   "cell_type": "code",
   "execution_count": null,
   "metadata": {},
   "outputs": [],
   "source": [
    "price = int(input(\"enter an integer\"))\n",
    "if price < 5000 :\n",
    "    print(\"I can buy a Jacket\")\n",
    "elif price > 5000 and price <= 10000 :\n",
    "    print(\"I can buy a shirt and Jacket\")\n",
    "elif price > 10000 :\n",
    "    print(\"I can buy 2 pairs\")\n",
    "else :\n",
    "    print(\"leave it\")\n"
   ]
  },
  {
   "cell_type": "code",
   "execution_count": null,
   "metadata": {},
   "outputs": [],
   "source": [
    "l=[[2,56,43],['sad','sad',234,'forty','rest',734],[2-8j,3.065,7,'tinku'],'welcome']\n",
    "l.insert(2,[12,39,67])\n",
    "\n",
    "print(l,'\\n')\n",
    "print('Q1')\n",
    "for i in l :\n",
    "    if type(i) == list :\n",
    "        \n",
    "        for j in range(len(i)) :\n",
    "            if type(i[j]) == str :\n",
    "                print('Sublist :',i,'\\n','index= ',j,', value = ',i[j],'\\n')\n",
    "                \n",
    "print(l,'\\n' )\n",
    "print('Q2')\n",
    "for i in l :\n",
    "    if type(i) == list :\n",
    "        for j in range(len(i)) :\n",
    "            if type(i[j]) == str :\n",
    "                i[j]=' '\n",
    "                \n",
    "                \n",
    "print('final list after removing all str in nested list:',l)\n"
   ]
  },
  {
   "cell_type": "code",
   "execution_count": null,
   "metadata": {},
   "outputs": [],
   "source": [
    "#3. Write a Python program to display calendar?\n",
    "\n",
    "import calendar\n",
    "n=int(input('Type 1 for monthly calendar or Type 2 for yearly calendar'))\n",
    "\n",
    "if n==1 :\n",
    "    yy=int(input('Enter the Year: '))\n",
    "    mm=int(input('Enter the month number: '))\n",
    "    print(calendar.month(yy,mm))\n",
    "elif n==2:\n",
    "    yy=int(input('Enter the Year: '))\n",
    "    for m in range(1,13):\n",
    "        print(calendar.month(yy,m))\n",
    "        \n",
    "#Doubt: Can i change the layout of the o/p?for example, 3 months in a row\n"
   ]
  },
  {
   "cell_type": "code",
   "execution_count": null,
   "metadata": {},
   "outputs": [],
   "source": [
    "Marks = int(input())\n",
    "if Marks > 600 :\n",
    "    print(\"I am pass in GRE\")\n",
    "elif Marks<600 or Marks>=500:\n",
    "        print(\"I am pass in TOFEL\")\n",
    "elif Marks<=500 or Marks>=400:\n",
    "        print(\"I am pass in Python\")\n",
    "else :\n",
    "    print(\"please try further examination\")\n"
   ]
  },
  {
   "cell_type": "code",
   "execution_count": null,
   "metadata": {},
   "outputs": [],
   "source": [
    "marks = int(input())\n",
    "\n",
    "if marks < 600:\n",
    "    print('No Gre admission')\n",
    "    if marks < 500:\n",
    "        print('TOEFL')\n",
    "    elif marks < 400:\n",
    "        print('try something else')\n",
    "    else:\n",
    "        print('got ')\n",
    "else:\n",
    "    print('gre admission')\n"
   ]
  },
  {
   "cell_type": "code",
   "execution_count": null,
   "metadata": {},
   "outputs": [],
   "source": [
    "l = [3,4,5,6,7 , [23,456,67,8,78,78] , [345,56,87,8,98,9] , (234,6657,6) , {\"key1\" :\"sudh\" , 234:[23,45,656]}]\n",
    "\n",
    "l[-1]['key1']"
   ]
  },
  {
   "cell_type": "code",
   "execution_count": null,
   "metadata": {},
   "outputs": [],
   "source": [
    "l=[1,2,3,4,5,\"sudh\",23.55]\n",
    "l1 = []\n",
    "for i in l:\n",
    "    if type(i)==int:\n",
    "        l1.append(i)\n"
   ]
  },
  {
   "cell_type": "code",
   "execution_count": null,
   "metadata": {},
   "outputs": [],
   "source": [
    "l1"
   ]
  },
  {
   "cell_type": "code",
   "execution_count": null,
   "metadata": {},
   "outputs": [],
   "source": [
    "a=10\n",
    "b=11\n",
    "c=12\n",
    "d=12\n",
    "if a==9 or (b==11 and c==12 and d==13):\n",
    "    print(\"lets do something\")\n",
    "else :\n",
    "    print(\"nothing \")"
   ]
  },
  {
   "cell_type": "code",
   "execution_count": null,
   "metadata": {},
   "outputs": [],
   "source": [
    "d ={\"key1\": \"value\", \"key2\":\"sudh\",\"key3\":\"ineuron\"}\n",
    "if d['key1'] == \"value\" and d['key2'] == \"sudh\" and d['key3'] == \"ineuron\":\n",
    "    print(\"all the values are verified\")\n",
    "    print(d.values())\n"
   ]
  },
  {
   "cell_type": "code",
   "execution_count": null,
   "metadata": {},
   "outputs": [],
   "source": [
    "l = [{'key1': 'sudh', 234: [23, 45, 656]},\n",
    " (234, 6657, 6),\n",
    " [345, 56, 87, 8, 98, 9],\n",
    " [23, 456, 67, 8, 78, 78],\n",
    " 7,\n",
    " 6,\n",
    " 5,\n",
    " 4,\n",
    " 3]\n"
   ]
  },
  {
   "cell_type": "code",
   "execution_count": null,
   "metadata": {},
   "outputs": [],
   "source": [
    "list(l[0].keys())"
   ]
  },
  {
   "cell_type": "code",
   "execution_count": null,
   "metadata": {},
   "outputs": [],
   "source": [
    "for i in l :\n",
    "    if type(i) == dict :\n",
    "        print(list(i.keys()))"
   ]
  },
  {
   "cell_type": "code",
   "execution_count": null,
   "metadata": {},
   "outputs": [],
   "source": [
    "test_list = [3, 5, 6, 8, 10]\n",
    "  \n",
    "# printing original list\n",
    "print(\"The original list : \" + str(test_list))\n",
    "  \n",
    "# using list comprehension\n",
    "# Finding missing elements in List\n",
    "res = [ele for ele in range(max(test_list)+1) if ele not in test_list]\n",
    "  \n",
    "# print result\n",
    "print(\"The list of missing elements : \" + str(res))\n"
   ]
  },
  {
   "cell_type": "code",
   "execution_count": null,
   "metadata": {},
   "outputs": [],
   "source": [
    "Q. Identify the three blocks in this code:\n",
    "spam = 0\n",
    "if spam == 10:\n",
    "    print('eggs')\n",
    "\n",
    "if spam >5:\n",
    "    print('bacon')\n",
    "else:\n",
    "    print('ham')\n",
    "print('spam')\n",
    "print('spam')\n"
   ]
  },
  {
   "cell_type": "code",
   "execution_count": null,
   "metadata": {},
   "outputs": [],
   "source": [
    "d={'key1':\"surendra\", 'key2':\"sudh\", 'key3':\"ineuron\"}\n",
    "\n",
    "d.values()"
   ]
  },
  {
   "cell_type": "code",
   "execution_count": null,
   "metadata": {},
   "outputs": [],
   "source": [
    "price = int(input())\n",
    "if price < 500:\n",
    "    print(\"i will be able to buy somthing\")\n",
    "    if price < 300 :\n",
    "        print(\"i will be able to buy a shirt\")    \n",
    "    elif price < 400 :\n",
    "        print(\"i will be able to buy a jacket\")\n",
    "        if price < 200 :\n",
    "            print(\"i would like to do somthig\")\n",
    "    else :\n",
    "        print(\"i wont be able to buy anything\")\n",
    "else :\n",
    "    print(\"i wont be able to buy anything with this price tag\")\n",
    "    if price > 500:\n",
    "        print(\"lets try something else\")\n"
   ]
  },
  {
   "cell_type": "code",
   "execution_count": null,
   "metadata": {},
   "outputs": [],
   "source": [
    "l=[1,2,3,\"trip\",234.6]\n",
    "for i in l:\n",
    "    print(l[i])\n"
   ]
  },
  {
   "cell_type": "code",
   "execution_count": null,
   "metadata": {},
   "outputs": [],
   "source": [
    "marks=int(input())\n",
    "if marks>600:\n",
    "    print('i would get admission in GRE')\n",
    "elif marks< 600:\n",
    "    print(\"no GRE\")\n",
    "    if marks< 500:\n",
    "        print(\"ToFEl\")\n",
    "    elif marks<400:\n",
    "        print(\"try something else\")\n"
   ]
  },
  {
   "cell_type": "code",
   "execution_count": null,
   "metadata": {},
   "outputs": [],
   "source": [
    "a = \"sudh\"\n",
    "if a == \"sudh\" or a == \"Sudh\":\n",
    "    print (\" this is Sudh\")\n",
    "else:\n",
    "    print (\"nothing\")\n"
   ]
  },
  {
   "cell_type": "code",
   "execution_count": null,
   "metadata": {},
   "outputs": [],
   "source": [
    "i = int(input())\n",
    "if type(i) == int : \n",
    "    print(\"int\")\n",
    "if type(i) == float : \n",
    "    print(\"float\") \n",
    "else :\n",
    "    print (\"invalid\")"
   ]
  },
  {
   "cell_type": "code",
   "execution_count": null,
   "metadata": {},
   "outputs": [],
   "source": [
    "travel_allowance=int(input()) \n",
    "if travel_allowance>1000 :\n",
    "    print (\"you can use petrol cab\")\n",
    "elif travel_allowance < 500 :\n",
    "    print (\" you can use metro train service\")\n"
   ]
  },
  {
   "cell_type": "code",
   "execution_count": null,
   "metadata": {},
   "outputs": [],
   "source": [
    "x=int(input(\"Enter the marks  \"))\n",
    "if x<600:\n",
    "    print(\"no gre\")\n",
    "elif x<500 or x>400:\n",
    "    print(\"tofel\")\n",
    "elif x<400:\n",
    "    print(\"try something else\")\n",
    "else:\n",
    "    print(\"you got tofel\")\n"
   ]
  },
  {
   "cell_type": "code",
   "execution_count": null,
   "metadata": {},
   "outputs": [],
   "source": [
    "x = 100\n",
    "y = 100\n",
    "x is y"
   ]
  },
  {
   "cell_type": "code",
   "execution_count": null,
   "metadata": {},
   "outputs": [],
   "source": [
    "z = 1000\n",
    "m = 1000\n",
    "m is z"
   ]
  },
  {
   "cell_type": "code",
   "execution_count": null,
   "metadata": {},
   "outputs": [],
   "source": [
    "l = [1,2,3,4,5]"
   ]
  },
  {
   "cell_type": "code",
   "execution_count": null,
   "metadata": {},
   "outputs": [],
   "source": [
    "sum(l)"
   ]
  },
  {
   "cell_type": "code",
   "execution_count": null,
   "metadata": {},
   "outputs": [],
   "source": [
    "t = (\"a\", 658, \"sudh\", 23.45) "
   ]
  },
  {
   "cell_type": "code",
   "execution_count": null,
   "metadata": {},
   "outputs": [],
   "source": [
    "val = float(input(\"Enter a floating point number \"))\n",
    "\n",
    "if val >=0:\n",
    "    if val ==0:\n",
    "        print(\"Entered value is zero\")\n",
    "    elif val < 0:\n",
    "        print(\"Number is smaller than zero\")\n",
    "    else:\n",
    "        print(\"Entered values is positive number\")\n",
    "else:\n",
    "    print(\"None\")\n"
   ]
  },
  {
   "cell_type": "code",
   "execution_count": null,
   "metadata": {},
   "outputs": [],
   "source": [
    "l= [1,2,3,4,5,\"sudh\", 234.45]\n",
    "\n",
    "for i in l:\n",
    "    if type(i)== int:\n",
    "        print(i+5)\n",
    "    elif type(i)==float:\n",
    "            print(i+10)\n",
    "    elif type(i)==str:\n",
    "        print(l.replace(\"ineuron\"))\n"
   ]
  },
  {
   "cell_type": "code",
   "execution_count": null,
   "metadata": {},
   "outputs": [],
   "source": [
    "d = {\"a\":200,\"b\":300}\n",
    "s =sum(d.values())\n",
    "print(\"sum\",s)"
   ]
  },
  {
   "cell_type": "code",
   "execution_count": null,
   "metadata": {},
   "outputs": [],
   "source": [
    "def number(i):\n",
    "    if type(i) == int:\n",
    "        print(\"this is an interger\")\n",
    "    elif type(i) == float:\n",
    "        print(\"this is a float\")\n",
    "    else:\n",
    "        print(\"Invalid\")\n",
    "\n",
    "number(5)\n"
   ]
  },
  {
   "cell_type": "code",
   "execution_count": null,
   "metadata": {},
   "outputs": [],
   "source": [
    "\n",
    "m=int(input())\n",
    "if m>600:\n",
    "    print(\"I will be able to clear Gre\")\n",
    "elif m<=600:\n",
    "    print(\"Didn't clear Gre\")\n",
    "    if m<500 and m>=400:\n",
    "        print(\"Tofel\")\n",
    "    elif m<400:\n",
    "        print(\"try something else\")\n"
   ]
  },
  {
   "cell_type": "code",
   "execution_count": null,
   "metadata": {},
   "outputs": [],
   "source": []
  }
 ],
 "metadata": {
  "kernelspec": {
   "display_name": "Python 3",
   "language": "python",
   "name": "python3"
  },
  "language_info": {
   "codemirror_mode": {
    "name": "ipython",
    "version": 3
   },
   "file_extension": ".py",
   "mimetype": "text/x-python",
   "name": "python",
   "nbconvert_exporter": "python",
   "pygments_lexer": "ipython3",
   "version": "3.8.5"
  }
 },
 "nbformat": 4,
 "nbformat_minor": 5
}
